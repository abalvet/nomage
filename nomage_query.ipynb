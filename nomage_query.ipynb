{
  "nbformat": 4,
  "nbformat_minor": 0,
  "metadata": {
    "colab": {
      "provenance": [],
      "authorship_tag": "ABX9TyM6xKm6kACFIxI3AjbC+InY",
      "include_colab_link": true
    },
    "kernelspec": {
      "name": "python3",
      "display_name": "Python 3"
    },
    "language_info": {
      "name": "python"
    }
  },
  "cells": [
    {
      "cell_type": "markdown",
      "metadata": {
        "id": "view-in-github",
        "colab_type": "text"
      },
      "source": [
        "<a href=\"https://colab.research.google.com/github/abalvet/nomage/blob/master/nomage_query.ipynb\" target=\"_parent\"><img src=\"https://colab.research.google.com/assets/colab-badge.svg\" alt=\"Open In Colab\"/></a>"
      ]
    },
    {
      "cell_type": "code",
      "execution_count": 24,
      "metadata": {
        "colab": {
          "base_uri": "https://localhost:8080/"
        },
        "id": "YOyP6FrXvIAr",
        "outputId": "a2ef67ae-8b9f-449e-84b2-def87fd8d03b"
      },
      "outputs": [
        {
          "output_type": "stream",
          "name": "stdout",
          "text": [
            "Requirement already satisfied: sqlalchemy in /usr/local/lib/python3.10/dist-packages (2.0.27)\n",
            "Requirement already satisfied: typing-extensions>=4.6.0 in /usr/local/lib/python3.10/dist-packages (from sqlalchemy) (4.9.0)\n",
            "Requirement already satisfied: greenlet!=0.4.17 in /usr/local/lib/python3.10/dist-packages (from sqlalchemy) (3.0.3)\n",
            "Requirement already satisfied: openpyxl in /usr/local/lib/python3.10/dist-packages (3.1.2)\n",
            "Requirement already satisfied: et-xmlfile in /usr/local/lib/python3.10/dist-packages (from openpyxl) (1.1.0)\n",
            "--2024-02-26 19:18:59--  https://github.com/abalvet/nomage/blob/master/nomage_reboot_data.sqlite?raw=true\n",
            "Resolving github.com (github.com)... 140.82.112.3\n",
            "Connecting to github.com (github.com)|140.82.112.3|:443... connected.\n",
            "HTTP request sent, awaiting response... 302 Found\n",
            "Location: https://github.com/abalvet/nomage/raw/master/nomage_reboot_data.sqlite [following]\n",
            "--2024-02-26 19:18:59--  https://github.com/abalvet/nomage/raw/master/nomage_reboot_data.sqlite\n",
            "Reusing existing connection to github.com:443.\n",
            "HTTP request sent, awaiting response... 302 Found\n",
            "Location: https://raw.githubusercontent.com/abalvet/nomage/master/nomage_reboot_data.sqlite [following]\n",
            "--2024-02-26 19:18:59--  https://raw.githubusercontent.com/abalvet/nomage/master/nomage_reboot_data.sqlite\n",
            "Resolving raw.githubusercontent.com (raw.githubusercontent.com)... 185.199.108.133, 185.199.109.133, 185.199.110.133, ...\n",
            "Connecting to raw.githubusercontent.com (raw.githubusercontent.com)|185.199.108.133|:443... connected.\n",
            "HTTP request sent, awaiting response... 200 OK\n",
            "Length: 2433024 (2.3M) [application/octet-stream]\n",
            "Saving to: ‘nomage_reboot_data.sqlite’\n",
            "\n",
            "nomage_reboot_data. 100%[===================>]   2.32M  --.-KB/s    in 0.06s   \n",
            "\n",
            "2024-02-26 19:18:59 (37.1 MB/s) - ‘nomage_reboot_data.sqlite’ saved [2433024/2433024]\n",
            "\n"
          ]
        }
      ],
      "source": [
        "!pip install sqlalchemy\n",
        "!pip install openpyxl\n",
        "\n",
        "\n",
        "!wget 'https://github.com/abalvet/nomage/blob/master/nomage_reboot_data.sqlite?raw=true' -O nomage_reboot_data.sqlite\n"
      ]
    },
    {
      "cell_type": "code",
      "source": [
        "from sqlalchemy import create_engine#make necessary imports\n",
        "import pandas as pd\n",
        "import sqlite3\n",
        "from google.colab import files\n",
        "from IPython.display import display, HTML\n",
        "\n",
        "\n",
        "conn = sqlite3.connect('/content/nomage_reboot_data.sqlite')#connect to database locally\n",
        "cursor = conn.cursor()\n",
        "\n",
        "\n"
      ],
      "metadata": {
        "id": "8XExh3NgvVzt"
      },
      "execution_count": 25,
      "outputs": []
    },
    {
      "cell_type": "code",
      "source": [
        "#execute query\n",
        "#this query selects all Nouns and associated Verbs + most declared properties\n",
        "#query = (\"\"\"\n",
        "#SELECT `ID_VOCABLES`, `VOCABLE`, `ID_BASES_VERBALES`, `NUM_ACC`, `VERBE`,   `ID_CONTEXTES`, `CONTEXTE`  FROM `table_vocables`\n",
        "#INNER JOIN `table_jointure_nom_verbe` USING ( `ID_VOCABLES` )\n",
        "#INNER JOIN `table_bases_verbales` USING ( `ID_BASES_VERBALES` )\n",
        "#INNER JOIN `table_ul_noms` USING ( `ID_VOCABLES` )\n",
        "#INNER JOIN `table_contextes` USING ( `ID_UL_NOMS` )\n",
        "#WHERE `VOCABLE` LIKE '%age'\n",
        "#ORDER BY `VOCABLE`\n",
        "#\"\"\")\n",
        "\n",
        "#Check out more query examples from https://github.com/abalvet/nomage/blob/master/nomage_queries\n",
        "\n",
        "#N and V aspectual class mismatches\n",
        "query = (\"\"\"\n",
        "SELECT VOCABLE, SUFFIXE, STRUCT_ARG_SEM_N, CLASSE_ASPECTUELLE_N, VERBE, PATRON_V,  CLASSE_ASPECTUELLE_V, `ID_CONTEXTES`, `CONTEXTE`\n",
        "FROM table_vocables\n",
        "INNER JOIN table_ul_noms USING (ID_VOCABLES)\n",
        "INNER JOIN table_morphocue USING (ID_MORPHOCUE)\n",
        "INNER JOIN table_struct_arg_noms USING (ID_UL_NOMS)\n",
        "INNER JOIN table_classes_aspectuelles_theoriques_n USING (ID_CLASSES_ASPECTUELLES_NOMS)\n",
        "INNER JOIN table_jointure_nom_verbe USING (ID_VOCABLES)\n",
        "INNER JOIN table_struct_arg_verbes USING (ID_UL_VERBES)\n",
        "INNER JOIN table_bases_verbales USING (ID_BASES_VERBALES)\n",
        "INNER JOIN table_patrons_sa_verbes USING (ID_PATRONS_SA_V)\n",
        "INNER JOIN table_classes_aspectuelles_theoriques_v USING (ID_CLASSES_ASPECTUELLES_VERBES)\n",
        "INNER JOIN `table_contextes` USING ( `ID_UL_NOMS` )\n",
        "WHERE CLASSE_ASPECTUELLE_N != CLASSE_ASPECTUELLE_V\n",
        "ORDER BY `VOCABLE`\n",
        "\"\"\")\n",
        "\n",
        "\n",
        "# make dataframe from output\n",
        "df = pd.read_sql_query(query, conn)\n",
        "#print(df.head(10))\n",
        "\n",
        "# Convertir le DataFrame en HTML\n",
        "table_html = df.head(10).to_html()\n",
        "\n",
        "# Afficher le tableau HTML dans le notebook\n",
        "display(HTML(table_html))\n",
        "\n",
        "\n"
      ],
      "metadata": {
        "colab": {
          "base_uri": "https://localhost:8080/",
          "height": 744
        },
        "id": "0zpZTE08wxhT",
        "outputId": "338d8b92-b016-4911-b08d-262c2c2b749e"
      },
      "execution_count": 29,
      "outputs": [
        {
          "output_type": "display_data",
          "data": {
            "text/plain": [
              "<IPython.core.display.HTML object>"
            ],
            "text/html": [
              "<table border=\"1\" class=\"dataframe\">\n",
              "  <thead>\n",
              "    <tr style=\"text-align: right;\">\n",
              "      <th></th>\n",
              "      <th>VOCABLE</th>\n",
              "      <th>SUFFIXE</th>\n",
              "      <th>STRUCT_ARG_SEM_N</th>\n",
              "      <th>CLASSE_ASPECTUELLE_N</th>\n",
              "      <th>VERBE</th>\n",
              "      <th>PATRON_V</th>\n",
              "      <th>CLASSE_ASPECTUELLE_V</th>\n",
              "      <th>ID_CONTEXTES</th>\n",
              "      <th>CONTEXTE</th>\n",
              "    </tr>\n",
              "  </thead>\n",
              "  <tbody>\n",
              "    <tr>\n",
              "      <th>0</th>\n",
              "      <td>absorption</td>\n",
              "      <td>ion</td>\n",
              "      <td>absorption de Y par X</td>\n",
              "      <td>ACCgrad</td>\n",
              "      <td>absorber</td>\n",
              "      <td>X V Y</td>\n",
              "      <td>ACC</td>\n",
              "      <td>2602</td>\n",
              "      <td>La simple _*absorption*_ des feuilles d' _*explication*_ m' a pris un bon moment , et j' ai eu un mal de chien à comprendre .</td>\n",
              "    </tr>\n",
              "    <tr>\n",
              "      <th>1</th>\n",
              "      <td>absorption</td>\n",
              "      <td>ion</td>\n",
              "      <td>absorption de Y par X</td>\n",
              "      <td>ACCgrad</td>\n",
              "      <td>absorber</td>\n",
              "      <td>X V Y</td>\n",
              "      <td>ACC</td>\n",
              "      <td>2926</td>\n",
              "      <td>Ce qui au reste induit aujourd' hui une _*tendance*_ au _*regroupement*_ , soit au sein de réseaux volontaires ( type Sélectour ) , soit par _*absorption*_ par des réseaux intégrés ( type Wagons - Lits , American Express ) .</td>\n",
              "    </tr>\n",
              "    <tr>\n",
              "      <th>2</th>\n",
              "      <td>absorption</td>\n",
              "      <td>ion</td>\n",
              "      <td>absorption de Y par X</td>\n",
              "      <td>ACCgrad</td>\n",
              "      <td>absorber</td>\n",
              "      <td>X V Y</td>\n",
              "      <td>ACC</td>\n",
              "      <td>3565</td>\n",
              "      <td>Après l' _*absorption*_ de la société Sephi ( Arcade ) , détenue à 50 % par la Compagnie des Wagons - Lits , la société Sphère ( Ibis ) rassemble , désormais , 391 hôtels dans 16 pays .</td>\n",
              "    </tr>\n",
              "    <tr>\n",
              "      <th>3</th>\n",
              "      <td>accentuation</td>\n",
              "      <td>ion</td>\n",
              "      <td>accentuation de Y par X / accentuation de X</td>\n",
              "      <td>ACCgrad</td>\n",
              "      <td>accentuer</td>\n",
              "      <td>X V Y / X V</td>\n",
              "      <td>ACT</td>\n",
              "      <td>373</td>\n",
              "      <td>Les pertes d' emplois , qui provenaient essentiellement l' an dernier des unités de production de faible taille , affectent aujourd' hui les plus grandes entreprises européennes , ce qui se solde par une _*accentuation*_ rapide des rythmes de _*licenciements*_ dans l' ensemble des _*secteurs*_ de la _*production*_ de biens et de services .</td>\n",
              "    </tr>\n",
              "    <tr>\n",
              "      <th>4</th>\n",
              "      <td>acceptation</td>\n",
              "      <td>ion</td>\n",
              "      <td>acceptation de Y par X</td>\n",
              "      <td>ACH</td>\n",
              "      <td>accepter</td>\n",
              "      <td>X V Y</td>\n",
              "      <td>ACH*ETAT</td>\n",
              "      <td>2889</td>\n",
              "      <td>Sans doute l' _*acceptation*_ de l' ordre social est -elle facilitée par l' _*existence*_ du suffrage universel et le fait que l' opinion publique a toujours manifesté sa sympathie pour les intérêts spécifiques des ouvriers .</td>\n",
              "    </tr>\n",
              "    <tr>\n",
              "      <th>5</th>\n",
              "      <td>accrochage</td>\n",
              "      <td>age</td>\n",
              "      <td>accrochage de Y à Z par X</td>\n",
              "      <td>ACC</td>\n",
              "      <td>accrocher</td>\n",
              "      <td>X V Y à Z</td>\n",
              "      <td>ACC*ETAT</td>\n",
              "      <td>4099</td>\n",
              "      <td>D' autant plus que , l' _*accrochage*_ du franc au mark ayant été détruit ou rendu élastique , la perspective de nouvelles _*dépréciations*_ du franc inciterait les trésoriers des grandes entreprises et des fonds de placement à vendre non seulement leurs liquidités en francs , mais aussi leurs titres libellés en francs .</td>\n",
              "    </tr>\n",
              "    <tr>\n",
              "      <th>6</th>\n",
              "      <td>accrochage</td>\n",
              "      <td>age</td>\n",
              "      <td>accrochage de Y à Z par X</td>\n",
              "      <td>ACC</td>\n",
              "      <td>accrocher (s')</td>\n",
              "      <td>X V Y à Z</td>\n",
              "      <td>ACC*ETAT</td>\n",
              "      <td>4099</td>\n",
              "      <td>D' autant plus que , l' _*accrochage*_ du franc au mark ayant été détruit ou rendu élastique , la perspective de nouvelles _*dépréciations*_ du franc inciterait les trésoriers des grandes entreprises et des fonds de placement à vendre non seulement leurs liquidités en francs , mais aussi leurs titres libellés en francs .</td>\n",
              "    </tr>\n",
              "    <tr>\n",
              "      <th>7</th>\n",
              "      <td>accroissement</td>\n",
              "      <td>ment</td>\n",
              "      <td>accroissement de Y de Z par X / accroissement de X de Y</td>\n",
              "      <td>ACCgrad</td>\n",
              "      <td>accroître</td>\n",
              "      <td>X V Y de Z / X V de Y</td>\n",
              "      <td>ACT</td>\n",
              "      <td>1029</td>\n",
              "      <td>\" l' _*accroissement*_ des masses reflète l' _*évolution*_ du déficit budgétaire prévu par la loi de finances ( 165 milliards de francs ) et des _*amortissements*_ ( _*remboursements*_ ) prévus de la dette à long et moyen terme ( 150 milliards de francs ) , ainsi que de la volonté de refinancer à moyen et long terme une _*fraction*_ de l' _*accroissement*_ , en 1992 , de l' encours de bons de Trésor \" , a précisé le ministre .</td>\n",
              "    </tr>\n",
              "    <tr>\n",
              "      <th>8</th>\n",
              "      <td>accroissement</td>\n",
              "      <td>ment</td>\n",
              "      <td>accroissement de Y de Z par X / accroissement de X de Y</td>\n",
              "      <td>ACCgrad</td>\n",
              "      <td>accroître</td>\n",
              "      <td>X V Y de Z / X V de Y</td>\n",
              "      <td>ACT</td>\n",
              "      <td>1935</td>\n",
              "      <td>Un _*accroissement*_ du poids de ceux - ci , qui devrait , à terme , faire passer la _*participation*_ du personnel au capital de 61 % à 55 , 4 % .</td>\n",
              "    </tr>\n",
              "    <tr>\n",
              "      <th>9</th>\n",
              "      <td>accroissement</td>\n",
              "      <td>ment</td>\n",
              "      <td>accroissement de Y de Z par X / accroissement de X de Y</td>\n",
              "      <td>ACCgrad</td>\n",
              "      <td>accroître</td>\n",
              "      <td>X V Y de Z / X V de Y</td>\n",
              "      <td>ACT</td>\n",
              "      <td>2007</td>\n",
              "      <td>Dans ces conditions , on peut se demander pourquoi le _*gouvernement*_ n' a pas profité de l' _*occasion*_ pour trancher en expliquant dès maintenant que le _*ralentissement*_ de la _*croissance*_ exige un _*accroissement*_ des prélèvements obligatoires .</td>\n",
              "    </tr>\n",
              "  </tbody>\n",
              "</table>"
            ]
          },
          "metadata": {}
        }
      ]
    },
    {
      "cell_type": "code",
      "source": [
        "# Export DataFrame to CSV\n",
        "#csv_file = 'resultats_requete.csv'  # Nom du fichier CSV\n",
        "#df.to_csv(csv_file, index=False)\n",
        "# Download CSV\n",
        "#files.download(csv_file)\n",
        "\n",
        "# exporting to excel\n",
        "excel_file = 'results.xlsx'\n",
        "df.to_excel(excel_file, index=False, engine='openpyxl')\n",
        "files.download(excel_file)\n",
        "\n",
        "#Don't forget to close the connection!\n",
        "conn.close()\n",
        "\n",
        "\n",
        "\n"
      ],
      "metadata": {
        "colab": {
          "base_uri": "https://localhost:8080/",
          "height": 17
        },
        "id": "EN70kfhK1egs",
        "outputId": "19f484b8-b5b7-44ff-a90d-a1da6d4e6dac"
      },
      "execution_count": 30,
      "outputs": [
        {
          "output_type": "display_data",
          "data": {
            "text/plain": [
              "<IPython.core.display.Javascript object>"
            ],
            "application/javascript": [
              "\n",
              "    async function download(id, filename, size) {\n",
              "      if (!google.colab.kernel.accessAllowed) {\n",
              "        return;\n",
              "      }\n",
              "      const div = document.createElement('div');\n",
              "      const label = document.createElement('label');\n",
              "      label.textContent = `Downloading \"${filename}\": `;\n",
              "      div.appendChild(label);\n",
              "      const progress = document.createElement('progress');\n",
              "      progress.max = size;\n",
              "      div.appendChild(progress);\n",
              "      document.body.appendChild(div);\n",
              "\n",
              "      const buffers = [];\n",
              "      let downloaded = 0;\n",
              "\n",
              "      const channel = await google.colab.kernel.comms.open(id);\n",
              "      // Send a message to notify the kernel that we're ready.\n",
              "      channel.send({})\n",
              "\n",
              "      for await (const message of channel.messages) {\n",
              "        // Send a message to notify the kernel that we're ready.\n",
              "        channel.send({})\n",
              "        if (message.buffers) {\n",
              "          for (const buffer of message.buffers) {\n",
              "            buffers.push(buffer);\n",
              "            downloaded += buffer.byteLength;\n",
              "            progress.value = downloaded;\n",
              "          }\n",
              "        }\n",
              "      }\n",
              "      const blob = new Blob(buffers, {type: 'application/binary'});\n",
              "      const a = document.createElement('a');\n",
              "      a.href = window.URL.createObjectURL(blob);\n",
              "      a.download = filename;\n",
              "      div.appendChild(a);\n",
              "      a.click();\n",
              "      div.remove();\n",
              "    }\n",
              "  "
            ]
          },
          "metadata": {}
        },
        {
          "output_type": "display_data",
          "data": {
            "text/plain": [
              "<IPython.core.display.Javascript object>"
            ],
            "application/javascript": [
              "download(\"download_bc9d368b-0317-4a7b-8744-47ce60104265\", \"results.xlsx\", 300509)"
            ]
          },
          "metadata": {}
        }
      ]
    }
  ]
}